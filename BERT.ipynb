{
 "cells": [
  {
   "cell_type": "code",
   "execution_count": 33,
   "id": "initial_id",
   "metadata": {
    "collapsed": true,
    "ExecuteTime": {
     "end_time": "2024-03-20T20:49:51.699041100Z",
     "start_time": "2024-03-20T20:49:51.644399800Z"
    }
   },
   "outputs": [],
   "source": [
    "import json\n",
    "import pandas as pd\n",
    "\n",
    "from sklearn.model_selection import train_test_split\n",
    "\n",
    "import torch\n",
    "from torch.utils.data import TensorDataset, DataLoader, RandomSampler, SequentialSampler\n",
    "from transformers import ElectraForPreTraining, ElectraTokenizerFast\n",
    "from transformers import AdamW"
   ]
  },
  {
   "cell_type": "code",
   "outputs": [],
   "source": [
    "device = torch.device(\"cuda\" if torch.cuda.is_available() else \"cpu\")"
   ],
   "metadata": {
    "collapsed": false,
    "ExecuteTime": {
     "end_time": "2024-03-20T20:39:34.772197200Z",
     "start_time": "2024-03-20T20:39:34.734125100Z"
    }
   },
   "id": "867087e5880f4765",
   "execution_count": 12
  },
  {
   "cell_type": "code",
   "outputs": [],
   "source": [
    "# Define hyperparameters\n",
    "num_epochs = 10\n",
    "batch_size = 16\n",
    "learning_rate = 2e-5"
   ],
   "metadata": {
    "collapsed": false,
    "ExecuteTime": {
     "end_time": "2024-03-20T20:39:42.286836300Z",
     "start_time": "2024-03-20T20:39:42.200175Z"
    }
   },
   "id": "27e635f5bbe2327a",
   "execution_count": 13
  },
  {
   "cell_type": "code",
   "outputs": [
    {
     "data": {
      "text/plain": "config.json:   0%|          | 0.00/666 [00:00<?, ?B/s]",
      "application/vnd.jupyter.widget-view+json": {
       "version_major": 2,
       "version_minor": 0,
       "model_id": "0feffde38a064fb7af6141ec7c44e4bf"
      }
     },
     "metadata": {},
     "output_type": "display_data"
    },
    {
     "name": "stderr",
     "output_type": "stream",
     "text": [
      "C:\\Users\\Admin\\anaconda3\\envs\\SupportSystem\\lib\\site-packages\\huggingface_hub\\file_download.py:149: UserWarning: `huggingface_hub` cache-system uses symlinks by default to efficiently store duplicated files but your machine does not support them in C:\\Users\\Admin\\.cache\\huggingface\\hub\\models--google--electra-base-discriminator. Caching files will still work but in a degraded version that might require more space on your disk. This warning can be disabled by setting the `HF_HUB_DISABLE_SYMLINKS_WARNING` environment variable. For more details, see https://huggingface.co/docs/huggingface_hub/how-to-cache#limitations.\n",
      "To support symlinks on Windows, you either need to activate Developer Mode or to run Python as an administrator. In order to see activate developer mode, see this article: https://docs.microsoft.com/en-us/windows/apps/get-started/enable-your-device-for-development\n",
      "  warnings.warn(message)\n"
     ]
    },
    {
     "data": {
      "text/plain": "pytorch_model.bin:   0%|          | 0.00/440M [00:00<?, ?B/s]",
      "application/vnd.jupyter.widget-view+json": {
       "version_major": 2,
       "version_minor": 0,
       "model_id": "e6d3eded6a9849cc82d2bdfa4688b725"
      }
     },
     "metadata": {},
     "output_type": "display_data"
    },
    {
     "name": "stderr",
     "output_type": "stream",
     "text": [
      "Some weights of the model checkpoint at google/electra-base-discriminator were not used when initializing ElectraForPreTraining: ['electra.embeddings_project.bias', 'electra.embeddings_project.weight']\n",
      "- This IS expected if you are initializing ElectraForPreTraining from the checkpoint of a model trained on another task or with another architecture (e.g. initializing a BertForSequenceClassification model from a BertForPreTraining model).\n",
      "- This IS NOT expected if you are initializing ElectraForPreTraining from the checkpoint of a model that you expect to be exactly identical (initializing a BertForSequenceClassification model from a BertForSequenceClassification model).\n"
     ]
    },
    {
     "data": {
      "text/plain": "tokenizer_config.json:   0%|          | 0.00/48.0 [00:00<?, ?B/s]",
      "application/vnd.jupyter.widget-view+json": {
       "version_major": 2,
       "version_minor": 0,
       "model_id": "0f110ee5bd8149dca27cc16be596fe08"
      }
     },
     "metadata": {},
     "output_type": "display_data"
    },
    {
     "data": {
      "text/plain": "vocab.txt:   0%|          | 0.00/232k [00:00<?, ?B/s]",
      "application/vnd.jupyter.widget-view+json": {
       "version_major": 2,
       "version_minor": 0,
       "model_id": "ae6b29cad4d6436ca36f36279c5cd7b3"
      }
     },
     "metadata": {},
     "output_type": "display_data"
    },
    {
     "data": {
      "text/plain": "tokenizer.json:   0%|          | 0.00/466k [00:00<?, ?B/s]",
      "application/vnd.jupyter.widget-view+json": {
       "version_major": 2,
       "version_minor": 0,
       "model_id": "5756fbdcac544368a5c44cdeaa21529d"
      }
     },
     "metadata": {},
     "output_type": "display_data"
    },
    {
     "data": {
      "text/plain": "ElectraForPreTraining(\n  (electra): ElectraModel(\n    (embeddings): ElectraEmbeddings(\n      (word_embeddings): Embedding(30522, 768, padding_idx=0)\n      (position_embeddings): Embedding(512, 768)\n      (token_type_embeddings): Embedding(2, 768)\n      (LayerNorm): LayerNorm((768,), eps=1e-12, elementwise_affine=True)\n      (dropout): Dropout(p=0.1, inplace=False)\n    )\n    (encoder): ElectraEncoder(\n      (layer): ModuleList(\n        (0-11): 12 x ElectraLayer(\n          (attention): ElectraAttention(\n            (self): ElectraSelfAttention(\n              (query): Linear(in_features=768, out_features=768, bias=True)\n              (key): Linear(in_features=768, out_features=768, bias=True)\n              (value): Linear(in_features=768, out_features=768, bias=True)\n              (dropout): Dropout(p=0.1, inplace=False)\n            )\n            (output): ElectraSelfOutput(\n              (dense): Linear(in_features=768, out_features=768, bias=True)\n              (LayerNorm): LayerNorm((768,), eps=1e-12, elementwise_affine=True)\n              (dropout): Dropout(p=0.1, inplace=False)\n            )\n          )\n          (intermediate): ElectraIntermediate(\n            (dense): Linear(in_features=768, out_features=3072, bias=True)\n            (intermediate_act_fn): GELUActivation()\n          )\n          (output): ElectraOutput(\n            (dense): Linear(in_features=3072, out_features=768, bias=True)\n            (LayerNorm): LayerNorm((768,), eps=1e-12, elementwise_affine=True)\n            (dropout): Dropout(p=0.1, inplace=False)\n          )\n        )\n      )\n    )\n  )\n  (discriminator_predictions): ElectraDiscriminatorPredictions(\n    (dense): Linear(in_features=768, out_features=768, bias=True)\n    (activation): GELUActivation()\n    (dense_prediction): Linear(in_features=768, out_features=1, bias=True)\n  )\n)"
     },
     "execution_count": 34,
     "metadata": {},
     "output_type": "execute_result"
    }
   ],
   "source": [
    "# Load tokenizer and model\n",
    "model = ElectraForPreTraining.from_pretrained(\"google/electra-base-discriminator\")\n",
    "tokenizer = ElectraTokenizerFast.from_pretrained(\"google/electra-base-discriminator\")\n",
    "num_classes = 5\n",
    "#model = ElectraForSequenceClassification.from_pretrained('google/bio-electra-base-discriminator', num_labels=num_classes)\n",
    "model.to(device)"
   ],
   "metadata": {
    "collapsed": false,
    "ExecuteTime": {
     "end_time": "2024-03-20T20:50:26.921318100Z",
     "start_time": "2024-03-20T20:49:56.002649300Z"
    }
   },
   "id": "ec33cee9481ed4f3",
   "execution_count": 34
  },
  {
   "cell_type": "markdown",
   "source": [
    "# Prepare data"
   ],
   "metadata": {
    "collapsed": false
   },
   "id": "4f46c5ece223a35a"
  },
  {
   "cell_type": "code",
   "outputs": [],
   "source": [
    "def load_data(file_path):\n",
    "    with open(file_path, \"r\", encoding='utf-8') as file:\n",
    "        data = json.load(file)\n",
    "    return data\n",
    "\n",
    "dataset = load_data(\"ESConv.json\")\n",
    "dataframe = pd.DataFrame(dataset)"
   ],
   "metadata": {
    "collapsed": false,
    "ExecuteTime": {
     "end_time": "2024-03-20T20:42:37.385101600Z",
     "start_time": "2024-03-20T20:42:36.691701500Z"
    }
   },
   "id": "4708ffbc6515aa05",
   "execution_count": 18
  },
  {
   "cell_type": "code",
   "outputs": [],
   "source": [
    "def extract_dialog(dialog, start_percentage, end_percentage):\n",
    "    if isinstance(dialog, list):\n",
    "        seeker_contents = [item['content'] for item in dialog if item['speaker'] == 'seeker']\n",
    "        start_index = int(start_percentage * len(seeker_contents))\n",
    "        end_index = int(end_percentage * len(seeker_contents))\n",
    "        return ' '.join(seeker_contents[start_index:end_index])\n",
    "    elif isinstance(dialog, str):\n",
    "        sentences = dialog.split('.')\n",
    "        seeker_contents = [sentence for sentence in sentences] #[str, str, ..., str]\n",
    "        start_index = int(start_percentage * len(seeker_contents))\n",
    "        end_index = int(end_percentage * len(seeker_contents))\n",
    "        return seeker_contents[start_index:end_index]\n",
    "    else:\n",
    "        return None"
   ],
   "metadata": {
    "collapsed": false,
    "ExecuteTime": {
     "end_time": "2024-03-20T20:43:18.872470400Z",
     "start_time": "2024-03-20T20:43:18.779472Z"
    }
   },
   "id": "a6a84fd28617a76f",
   "execution_count": 20
  },
  {
   "cell_type": "code",
   "outputs": [],
   "source": [
    "df = pd.DataFrame()\n",
    "df['dialog'] = dataframe['dialog'].apply(lambda x: extract_dialog(x, 0, 1)) #take whole dialog from seeker\n",
    "df['dialog'] = df['dialog'].apply(lambda x: ' '.join(x) if isinstance(x, list) else x)\n",
    "\n",
    "df['initial_emotion_intensity'] = dataframe['survey_score'].apply(\n",
    "    lambda x: x['seeker']['initial_emotion_intensity'])\n",
    "df['initial_emotion_intensity'].dropna(inplace=True)\n",
    "df['initial_emotion_intensity'] = df['initial_emotion_intensity'].astype(int)\n",
    "df['dialog'].dropna(inplace=True)\n",
    "#train_loader = DataLoader(df, batch_size=32, shuffle=True)"
   ],
   "metadata": {
    "collapsed": false,
    "ExecuteTime": {
     "end_time": "2024-03-20T20:43:31.304470700Z",
     "start_time": "2024-03-20T20:43:31.139468600Z"
    }
   },
   "id": "1461024ded85fbd6",
   "execution_count": 22
  },
  {
   "cell_type": "code",
   "outputs": [
    {
     "data": {
      "text/plain": "                                                 dialog  \\\n0     Hello\\n I am having a lot of anxiety about qui...   \n1     hello im looking for someone to talk to  im fi...   \n2     Hello I'm concerned about my job. I have been ...   \n3     I am dong good. You?\\n I have been staying hom...   \n4     Infinitely complicated.\\n Too many decisions. ...   \n...                                                 ...   \n1295  I feel sleepy but can not sleep It has always ...   \n1296  I am fine. thanks. how about you ?\\n I lost my...   \n1297  HI how are you today\\n Doing well, thanks.\\n N...   \n1298  Hello\\n I am a little down today.  How are you...   \n1299  hi i'm nereida\\n i am in disputed mod with my ...   \n\n      initial_emotion_intensity  \n0                             5  \n1                             5  \n2                             4  \n3                             4  \n4                             5  \n...                         ...  \n1295                          5  \n1296                          4  \n1297                          3  \n1298                          3  \n1299                          3  \n\n[1300 rows x 2 columns]",
      "text/html": "<div>\n<style scoped>\n    .dataframe tbody tr th:only-of-type {\n        vertical-align: middle;\n    }\n\n    .dataframe tbody tr th {\n        vertical-align: top;\n    }\n\n    .dataframe thead th {\n        text-align: right;\n    }\n</style>\n<table border=\"1\" class=\"dataframe\">\n  <thead>\n    <tr style=\"text-align: right;\">\n      <th></th>\n      <th>dialog</th>\n      <th>initial_emotion_intensity</th>\n    </tr>\n  </thead>\n  <tbody>\n    <tr>\n      <th>0</th>\n      <td>Hello\\n I am having a lot of anxiety about qui...</td>\n      <td>5</td>\n    </tr>\n    <tr>\n      <th>1</th>\n      <td>hello im looking for someone to talk to  im fi...</td>\n      <td>5</td>\n    </tr>\n    <tr>\n      <th>2</th>\n      <td>Hello I'm concerned about my job. I have been ...</td>\n      <td>4</td>\n    </tr>\n    <tr>\n      <th>3</th>\n      <td>I am dong good. You?\\n I have been staying hom...</td>\n      <td>4</td>\n    </tr>\n    <tr>\n      <th>4</th>\n      <td>Infinitely complicated.\\n Too many decisions. ...</td>\n      <td>5</td>\n    </tr>\n    <tr>\n      <th>...</th>\n      <td>...</td>\n      <td>...</td>\n    </tr>\n    <tr>\n      <th>1295</th>\n      <td>I feel sleepy but can not sleep It has always ...</td>\n      <td>5</td>\n    </tr>\n    <tr>\n      <th>1296</th>\n      <td>I am fine. thanks. how about you ?\\n I lost my...</td>\n      <td>4</td>\n    </tr>\n    <tr>\n      <th>1297</th>\n      <td>HI how are you today\\n Doing well, thanks.\\n N...</td>\n      <td>3</td>\n    </tr>\n    <tr>\n      <th>1298</th>\n      <td>Hello\\n I am a little down today.  How are you...</td>\n      <td>3</td>\n    </tr>\n    <tr>\n      <th>1299</th>\n      <td>hi i'm nereida\\n i am in disputed mod with my ...</td>\n      <td>3</td>\n    </tr>\n  </tbody>\n</table>\n<p>1300 rows × 2 columns</p>\n</div>"
     },
     "execution_count": 23,
     "metadata": {},
     "output_type": "execute_result"
    }
   ],
   "source": [
    "df"
   ],
   "metadata": {
    "collapsed": false,
    "ExecuteTime": {
     "end_time": "2024-03-20T20:43:36.357469300Z",
     "start_time": "2024-03-20T20:43:34.536474400Z"
    }
   },
   "id": "b94216b074252c9",
   "execution_count": 23
  },
  {
   "cell_type": "code",
   "outputs": [],
   "source": [
    "def train_test_split_part_dialog(dialog, labels, start_percentage, end_percentage, test_start, test_end):\n",
    "    train_data = []\n",
    "    test_data = []\n",
    "\n",
    "    if isinstance(labels, pd.Series):\n",
    "        labels = labels.tolist()\n",
    "\n",
    "    # Ensure labels are within the range of 0 to n_classes - 1\n",
    "    min_label = min(labels)\n",
    "    train_labels = labels\n",
    "    test_labels = labels\n",
    "\n",
    "    if isinstance(dialog, list):\n",
    "        for conv in dialog:\n",
    "            seeker_contents = [item['content'] for item in conv if item['speaker'] == 'seeker']\n",
    "            start_index = int(start_percentage * len(seeker_contents))\n",
    "            end_index = int(end_percentage * len(seeker_contents))\n",
    "            test_start_index = int(test_start * len(seeker_contents))\n",
    "            test_end_index = int(test_end * len(seeker_contents))\n",
    "\n",
    "            train_data.extend(seeker_contents[start_index:end_index])\n",
    "            test_data.extend(seeker_contents[test_start_index:test_end_index])\n",
    "\n",
    "    elif isinstance(dialog, str):\n",
    "        sentences = dialog.split('.')\n",
    "        seeker_contents = [sentence.strip() for sentence in sentences]\n",
    "        start_index = int(start_percentage * len(seeker_contents))\n",
    "        end_index = int(end_percentage * len(seeker_contents))\n",
    "        test_start_index = int(test_start * len(seeker_contents))\n",
    "        test_end_index = int(test_end * len(seeker_contents))\n",
    "\n",
    "        train_data = seeker_contents[start_index:end_index]\n",
    "        test_data = seeker_contents[test_start_index:test_end_index]\n",
    "\n",
    "    elif isinstance(dialog, pd.Series):\n",
    "        for conv in dialog:\n",
    "            seeker_contents = conv\n",
    "            start_index = int(start_percentage * len(seeker_contents))\n",
    "            end_index = int(end_percentage * len(seeker_contents))\n",
    "            test_start_index = int(test_start * len(seeker_contents))\n",
    "            test_end_index = int(test_end * len(seeker_contents))\n",
    "\n",
    "            # train_data.append((seeker_contents[start_index:end_index],))  # Append as tuple\n",
    "            # test_data.append((seeker_contents[test_start_index:test_end_index],))  # Append as tuple\n",
    "            train_data.append(' '.join(seeker_contents[start_index:end_index]))\n",
    "            test_data.append(' '.join(seeker_contents[test_start_index:test_end_index]))\n",
    "\n",
    "    return tuple(train_data), tuple(test_data), train_labels, test_labels"
   ],
   "metadata": {
    "collapsed": false,
    "ExecuteTime": {
     "end_time": "2024-03-20T20:45:17.795702100Z",
     "start_time": "2024-03-20T20:45:17.609949100Z"
    }
   },
   "id": "b8256053aca606ca",
   "execution_count": 24
  },
  {
   "cell_type": "code",
   "outputs": [],
   "source": [
    "train_data, test_data, train_labels, test_labels = train_test_split_part_dialog(\n",
    "    df['dialog'], df['initial_emotion_intensity'],\n",
    "    start_percentage=0, end_percentage=0.2,\n",
    "    test_start=0.2, test_end=0.4)"
   ],
   "metadata": {
    "collapsed": false,
    "ExecuteTime": {
     "end_time": "2024-03-20T20:45:29.220423400Z",
     "start_time": "2024-03-20T20:45:28.974808300Z"
    }
   },
   "id": "5ad36e544588ca82",
   "execution_count": 25
  },
  {
   "cell_type": "code",
   "outputs": [],
   "source": [
    "# standard division on test and train\n",
    "train_dataset, val_dataset, train_labels, val_labels = train_test_split(train_data, train_labels, test_size=0.2, random_state=1)"
   ],
   "metadata": {
    "collapsed": false,
    "ExecuteTime": {
     "end_time": "2024-03-20T20:46:27.974103500Z",
     "start_time": "2024-03-20T20:46:27.897259100Z"
    }
   },
   "id": "b170015d11803db1",
   "execution_count": 28
  },
  {
   "cell_type": "code",
   "outputs": [],
   "source": [
    "train_dataloader = DataLoader(train_dataset, batch_size=batch_size, shuffle=True)\n",
    "val_dataloader = DataLoader(val_dataset, batch_size=batch_size, shuffle=False)"
   ],
   "metadata": {
    "collapsed": false,
    "ExecuteTime": {
     "end_time": "2024-03-20T20:46:34.261468700Z",
     "start_time": "2024-03-20T20:46:34.133944900Z"
    }
   },
   "id": "f809fa09533179e4",
   "execution_count": 29
  },
  {
   "cell_type": "code",
   "outputs": [],
   "source": [
    "# Define optimizer and loss function\n",
    "optimizer = AdamW(model.parameters(), lr=learning_rate, no_deprecation_warning=True)\n",
    "loss_fn = torch.nn.CrossEntropyLoss()"
   ],
   "metadata": {
    "collapsed": false,
    "ExecuteTime": {
     "end_time": "2024-03-20T20:51:24.879473200Z",
     "start_time": "2024-03-20T20:51:24.747890100Z"
    }
   },
   "id": "5b9c2513a16e87d2",
   "execution_count": 36
  },
  {
   "cell_type": "code",
   "outputs": [
    {
     "ename": "TypeError",
     "evalue": "list indices must be integers or slices, not str",
     "output_type": "error",
     "traceback": [
      "\u001B[1;31m---------------------------------------------------------------------------\u001B[0m",
      "\u001B[1;31mTypeError\u001B[0m                                 Traceback (most recent call last)",
      "Cell \u001B[1;32mIn[37], line 9\u001B[0m\n\u001B[0;32m      6\u001B[0m total_samples \u001B[38;5;241m=\u001B[39m \u001B[38;5;241m0\u001B[39m\n\u001B[0;32m      8\u001B[0m \u001B[38;5;28;01mfor\u001B[39;00m batch \u001B[38;5;129;01min\u001B[39;00m train_dataloader:\n\u001B[1;32m----> 9\u001B[0m     inputs \u001B[38;5;241m=\u001B[39m tokenizer(\u001B[43mbatch\u001B[49m\u001B[43m[\u001B[49m\u001B[38;5;124;43m'\u001B[39;49m\u001B[38;5;124;43mtext\u001B[39;49m\u001B[38;5;124;43m'\u001B[39;49m\u001B[43m]\u001B[49m, padding\u001B[38;5;241m=\u001B[39m\u001B[38;5;28;01mTrue\u001B[39;00m, truncation\u001B[38;5;241m=\u001B[39m\u001B[38;5;28;01mTrue\u001B[39;00m, return_tensors\u001B[38;5;241m=\u001B[39m\u001B[38;5;124m'\u001B[39m\u001B[38;5;124mpt\u001B[39m\u001B[38;5;124m'\u001B[39m)\n\u001B[0;32m     10\u001B[0m     inputs \u001B[38;5;241m=\u001B[39m {k: v\u001B[38;5;241m.\u001B[39mto(device) \u001B[38;5;28;01mfor\u001B[39;00m k, v \u001B[38;5;129;01min\u001B[39;00m inputs\u001B[38;5;241m.\u001B[39mitems()}\n\u001B[0;32m     11\u001B[0m     labels \u001B[38;5;241m=\u001B[39m batch[\u001B[38;5;124m'\u001B[39m\u001B[38;5;124mlabel\u001B[39m\u001B[38;5;124m'\u001B[39m]\u001B[38;5;241m.\u001B[39mto(device)\n",
      "\u001B[1;31mTypeError\u001B[0m: list indices must be integers or slices, not str"
     ]
    }
   ],
   "source": [
    "# Training loop\n",
    "for epoch in range(num_epochs):\n",
    "    model.train()\n",
    "    total_loss = 0\n",
    "    total_correct = 0\n",
    "    total_samples = 0\n",
    "\n",
    "    for batch in train_dataloader:\n",
    "        inputs = tokenizer(batch['text'], padding=True, truncation=True, return_tensors='pt')\n",
    "        inputs = {k: v.to(device) for k, v in inputs.items()}\n",
    "        labels = batch['label'].to(device)\n",
    "\n",
    "        optimizer.zero_grad()\n",
    "        outputs = model(**inputs)\n",
    "        logits = outputs.logits\n",
    "        loss = loss_fn(logits, labels)\n",
    "\n",
    "        loss.backward()\n",
    "        optimizer.step()\n",
    "\n",
    "        total_loss += loss.item()\n",
    "        _, predicted_labels = torch.max(logits, dim=1)\n",
    "        total_correct += (predicted_labels == labels).sum().item()\n",
    "        total_samples += labels.size(0)\n",
    "\n",
    "    train_loss = total_loss / len(train_dataloader)\n",
    "    train_accuracy = total_correct / total_samples\n",
    "\n",
    "    # Evaluation on validation set\n",
    "    model.eval()\n",
    "    with torch.no_grad():\n",
    "        total_val_loss = 0\n",
    "        total_val_correct = 0\n",
    "        total_val_samples = 0\n",
    "\n",
    "        for batch in val_dataloader:\n",
    "            inputs = tokenizer(batch['text'], padding=True, truncation=True, return_tensors='pt')\n",
    "            inputs = {k: v.to(device) for k, v in inputs.items()}\n",
    "            labels = batch['label'].to(device)\n",
    "\n",
    "            outputs = model(**inputs)\n",
    "            logits = outputs.logits\n",
    "            loss = loss_fn(logits, labels)\n",
    "\n",
    "            total_val_loss += loss.item()\n",
    "            _, predicted_labels = torch.max(logits, dim=1)\n",
    "            total_val_correct += (predicted_labels == labels).sum().item()\n",
    "            total_val_samples += labels.size(0)\n",
    "\n",
    "        val_loss = total_val_loss / len(val_dataloader)\n",
    "        val_accuracy = total_val_correct / total_val_samples\n",
    "\n",
    "    # Print epoch results\n",
    "    print(f\"Epoch {epoch+1}/{num_epochs}:\")\n",
    "    print(f\"Train Loss: {train_loss:.4f} - Train Accuracy: {train_accuracy:.4f}\")\n",
    "    print(f\"Validation Loss: {val_loss:.4f} - Validation Accuracy: {val_accuracy:.4f}\")"
   ],
   "metadata": {
    "collapsed": false,
    "ExecuteTime": {
     "end_time": "2024-03-20T20:51:46.702260300Z",
     "start_time": "2024-03-20T20:51:44.432412Z"
    }
   },
   "id": "9aa20b34796e9b8e",
   "execution_count": 37
  },
  {
   "cell_type": "code",
   "outputs": [],
   "source": [],
   "metadata": {
    "collapsed": false
   },
   "id": "92379dd64d998aff"
  }
 ],
 "metadata": {
  "kernelspec": {
   "display_name": "Python 3",
   "language": "python",
   "name": "python3"
  },
  "language_info": {
   "codemirror_mode": {
    "name": "ipython",
    "version": 2
   },
   "file_extension": ".py",
   "mimetype": "text/x-python",
   "name": "python",
   "nbconvert_exporter": "python",
   "pygments_lexer": "ipython2",
   "version": "2.7.6"
  }
 },
 "nbformat": 4,
 "nbformat_minor": 5
}
